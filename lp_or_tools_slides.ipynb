{
 "cells": [
  {
   "cell_type": "markdown",
   "metadata": {
    "slideshow": {
     "slide_type": "slide"
    }
   },
   "source": [
    "## Intro to Mathematical Optimization"
   ]
  },
  {
   "cell_type": "markdown",
   "metadata": {
    "slideshow": {
     "slide_type": "fragment"
    }
   },
   "source": [
    "And maybe a quick intro to Excel Solver..."
   ]
  },
  {
   "cell_type": "markdown",
   "metadata": {
    "slideshow": {
     "slide_type": "fragment"
    }
   },
   "source": [
    "And possibly some stuff about snakes, er... Python"
   ]
  },
  {
   "cell_type": "markdown",
   "metadata": {
    "slideshow": {
     "slide_type": "slide"
    }
   },
   "source": [
    "### Mathematical Optimization Background\n",
    "\n",
    "From [Wikipedia](https://en.wikipedia.org/wiki/Mathematical_optimization):\n",
    ">**Mathematical optimization** (alternatively spelled *optimisation*) or **mathematical programming** is the selection of a best element, with regard to some criterion, from some set of available alternatives. Optimization problems of sorts arise in all quantitative disciplines from computer science and engineering to operations research and economics, and the development of solution methods has been of interest in mathematics for centuries.\n",
    "\n",
    ">In the simplest case, an optimization problem consists of maximizing or minimizing a real function by systematically choosing input values from within an allowed set and computing the value of the function. The generalization of optimization theory and techniques to other formulations constitutes a large area of applied mathematics. More generally, optimization includes finding \"best available\" values of some objective function given a defined domain (or input), including a variety of different types of objective functions and different types of domains."
   ]
  },
  {
   "cell_type": "markdown",
   "metadata": {
    "slideshow": {
     "slide_type": "subslide"
    }
   },
   "source": [
    "### A series of mathematical methods to find the best option out of a wide range of possible options"
   ]
  },
  {
   "cell_type": "markdown",
   "metadata": {
    "slideshow": {
     "slide_type": "slide"
    }
   },
   "source": [
    "# Linear Programming!"
   ]
  },
  {
   "cell_type": "markdown",
   "metadata": {
    "slideshow": {
     "slide_type": "fragment"
    }
   },
   "source": [
    "A method of describing and solving a mathematical optimization problem by using linear inequalities"
   ]
  },
  {
   "cell_type": "markdown",
   "metadata": {
    "slideshow": {
     "slide_type": "fragment"
    }
   },
   "source": [
    "Which may or may not actually involve programming..."
   ]
  },
  {
   "cell_type": "markdown",
   "metadata": {
    "slideshow": {
     "slide_type": "subslide"
    }
   },
   "source": [
    "#### Linear programming is used across a wide variety of domains for many different applications.  Some common ones are:"
   ]
  },
  {
   "cell_type": "markdown",
   "metadata": {
    "slideshow": {
     "slide_type": "fragment"
    }
   },
   "source": [
    "- Determining how many of each item a production facility should make in order to maximize profits."
   ]
  },
  {
   "cell_type": "markdown",
   "metadata": {
    "slideshow": {
     "slide_type": "fragment"
    }
   },
   "source": [
    "- Minimizing staffing costs."
   ]
  },
  {
   "cell_type": "markdown",
   "metadata": {
    "slideshow": {
     "slide_type": "fragment"
    }
   },
   "source": [
    "- Selecting candidates for interviews/research studies."
   ]
  },
  {
   "cell_type": "markdown",
   "metadata": {
    "slideshow": {
     "slide_type": "slide"
    }
   },
   "source": [
    "### Components of an LP model"
   ]
  },
  {
   "cell_type": "markdown",
   "metadata": {
    "slideshow": {
     "slide_type": "fragment"
    }
   },
   "source": [
    "- Decision variables\n",
    "    - How much of X am I going to make?\n",
    "    - How many employees will I assign to shift N?\n",
    "    - What percentage of the formula should be of Z material?"
   ]
  },
  {
   "cell_type": "markdown",
   "metadata": {
    "slideshow": {
     "slide_type": "fragment"
    }
   },
   "source": [
    "- Constraints\n",
    "    - Linear Inequalities\n",
    "    - $10x <= 197$\n",
    "    - $3x > 12$"
   ]
  },
  {
   "cell_type": "markdown",
   "metadata": {
    "slideshow": {
     "slide_type": "fragment"
    }
   },
   "source": [
    "- Objective function\n",
    "    - A formula representing the thing we want to minimize/maximize\n",
    "    - $3x + 10y$"
   ]
  },
  {
   "cell_type": "markdown",
   "metadata": {
    "slideshow": {
     "slide_type": "slide"
    }
   },
   "source": [
    "### Linear Programming Example 1: Furniture Inc. Production Problem \n",
    "\n",
    "> #### Example 1: Furniture Inc. Production Problem \n",
    "> Furniture Inc. makes two products, tables and chairs, which are processed through the Assembly and Finishing departments.  \n",
    "\n",
    "> Assembly can handle up to 150 hours of work per week.  Finishing has 42 hours available per week.\n",
    "\n",
    "> Manufacturing one table requires:  \n",
    "&emsp; 10 hours of assembly and 2 hours of finishing.   \n",
    "Manufacturing one chair requires:  \n",
    "&emsp; 5 hours of assembly and 3 hours of finishing.  \n",
    "\n",
    ">If the profit is \\\\$8 per table and \\$6 per chair, determine the number of chairs and tables to be produced so the total profit is maximized.\n"
   ]
  },
  {
   "cell_type": "markdown",
   "metadata": {
    "slideshow": {
     "slide_type": "subslide"
    }
   },
   "source": [
    "#### Formulating the problem: Identify the decision variables\n",
    "\n",
    "- \\# of tables to make = $ T $\n",
    "- \\# of chairs to make = $ C $"
   ]
  },
  {
   "cell_type": "markdown",
   "metadata": {
    "slideshow": {
     "slide_type": "subslide"
    }
   },
   "source": [
    "#### Formulating the problem: Identify the objective function\n",
    "\n",
    "1. The objective function is the outcome that we want to minimize or maximize\n",
    "2. The objective function must be formulated as a linear function\n",
    "\n",
    "We get \\\\$8 per table and \\$6 per chair, so we could represent this with the following function:\n",
    "\n",
    "$$ profit = 8T + 6C $$\n",
    "\n",
    "Or in Excel, we could use a function like:\n",
    "\n",
    "`=(8 * A1) + (6 * B1)`\n",
    "\n",
    "Where cell A1 is the quantity of tables and cell B1 is the quantity of chairs."
   ]
  },
  {
   "cell_type": "markdown",
   "metadata": {
    "slideshow": {
     "slide_type": "subslide"
    }
   },
   "source": [
    "#### Formulating the problem: Identify the constraints\n",
    "\n",
    "We have two constraints:\n",
    "- 150 hours of assembly time available\n",
    "- 42 hours of finishing time available\n",
    "\n",
    "We know that:\n",
    "- Tables take 10 hours of assembly time and 2 hours of finishing time\n",
    "- Chairs take 5 hours of assembly and 3 hours of finishing"
   ]
  },
  {
   "cell_type": "markdown",
   "metadata": {
    "slideshow": {
     "slide_type": "subslide"
    }
   },
   "source": [
    "So total assembly time can be described as:\n",
    "\n",
    "$$ assembly = 10T + 5C $$\n",
    "\n",
    "And assembly time must be <= 150 hours.  For our linear programming problem, we could formulate this as a **linear inequality** such as:\n",
    "\n",
    "$$ 10T + 5C <= 150 $$"
   ]
  },
  {
   "cell_type": "markdown",
   "metadata": {
    "slideshow": {
     "slide_type": "subslide"
    }
   },
   "source": [
    "and finishing time can be described as:\n",
    "\n",
    "$$ finishing = 2T + 3C $$\n",
    "\n",
    "And finishing time must be <= 42 hours.  For our linear programming problem, we could formulate this as a **linear inequality** such as:\n",
    "\n",
    "$$ 2T + 3C <= 42 $$"
   ]
  },
  {
   "cell_type": "markdown",
   "metadata": {
    "slideshow": {
     "slide_type": "subslide"
    }
   },
   "source": [
    "$$ Maximize:$$\n",
    "$$8T + 6C \\tag{Profit}$$\n",
    "\n",
    "$$ Subject\\ to: $$\n",
    "$$ 10T + 5C <= 150 \\tag{Manufacturing Constraint} $$\n",
    "$$ 2T + 3C <= 42 \\tag{Finishing Constraint} $$"
   ]
  },
  {
   "cell_type": "markdown",
   "metadata": {
    "slideshow": {
     "slide_type": "slide"
    }
   },
   "source": [
    "## So, how do we do this in Excel?"
   ]
  },
  {
   "cell_type": "code",
   "execution_count": 15,
   "metadata": {
    "slideshow": {
     "slide_type": "slide"
    }
   },
   "outputs": [],
   "source": [
    "# Import the solver from ortools\n",
    "from ortools.linear_solver import pywraplp\n",
    "\n",
    "# Instantiate the solver\n",
    "solver = pywraplp.Solver('Furniture Inc. Example',\n",
    "                           pywraplp.Solver.CBC_MIXED_INTEGER_PROGRAMMING)\n",
    "\n",
    "# Create variables for tables and chairs.\n",
    "# solver.IntVar() creates an integer variable (since we can only \n",
    "#create whole tables and chairs) and adds it to the solver.\n",
    "# The parameters for IntVar are solver.IntVar(minimum, maximum, variable_name)\n",
    "tables = solver.IntVar(0, solver.infinity(), 'Tables')  \n",
    "chairs = solver.IntVar(0, solver.infinity(), 'Chairs')"
   ]
  },
  {
   "cell_type": "code",
   "execution_count": 16,
   "metadata": {
    "slideshow": {
     "slide_type": "subslide"
    }
   },
   "outputs": [],
   "source": [
    "# Next, we create the first constraint for manufacturing time:\n",
    "#     \n",
    "#    10 * tables + 5 * chairs <= 150\n",
    "#\n",
    "# For this, we use solver.Constraint(minimum, maximum) to add the constraint\n",
    "# and use SetCoefficient(variable, coefficient) to add the variables and their \n",
    "# coefficient in from the functions above to this constraint.\n",
    "manufacturing_constraint = solver.Constraint(0, 150)\n",
    "manufacturing_constraint.SetCoefficient(tables, 10)\n",
    "manufacturing_constraint.SetCoefficient(chairs, 5)"
   ]
  },
  {
   "cell_type": "code",
   "execution_count": 17,
   "metadata": {
    "slideshow": {
     "slide_type": "subslide"
    }
   },
   "outputs": [],
   "source": [
    "# Next, we add the finishing constraint:\n",
    "#\n",
    "#    2 * tables + 3 * chairs <= 42\n",
    "finishing_constraint = solver.Constraint(0, 42)\n",
    "finishing_constraint.SetCoefficient(tables, 2)\n",
    "finishing_constraint.SetCoefficient(chairs, 3)"
   ]
  },
  {
   "cell_type": "code",
   "execution_count": 18,
   "metadata": {
    "slideshow": {
     "slide_type": "subslide"
    }
   },
   "outputs": [],
   "source": [
    "# Next, we add our objective function to the solver in a similar manner\n",
    "# using solver.Objective() to create the objective function:\n",
    "#\n",
    "#    8 * tables + 6 * chairs = profit\n",
    "objective = solver.Objective()\n",
    "objective.SetCoefficient(tables, 8)\n",
    "objective.SetCoefficient(chairs, 6)\n",
    "\n",
    "# We use objective.SetMaximization() to tell the solver that our goal is to maximize\n",
    "# the objective function.\n",
    "objective.SetMaximization()"
   ]
  },
  {
   "cell_type": "code",
   "execution_count": 19,
   "metadata": {
    "slideshow": {
     "slide_type": "subslide"
    }
   },
   "outputs": [
    {
     "name": "stdout",
     "output_type": "stream",
     "text": [
      "Solution:\n",
      "Tables = 12\n",
      "Chairs = 6\n",
      "Maximum Profit = 132.0\n"
     ]
    }
   ],
   "source": [
    "# Finally, we call solver.Solve() to solve this problem.\n",
    "solver.Solve()\n",
    "\n",
    "# Get the solution value for each variable and multiply by the coefficient in our\n",
    "# objective function to get our maximum profit.\n",
    "maximum_profit = 8 * tables.solution_value() + 6 * chairs.solution_value()\n",
    "\n",
    "# Print the solution\n",
    "print('Solution:')\n",
    "print('Tables = %d' % round(tables.solution_value(), 0))\n",
    "print('Chairs = %d' % round(chairs.solution_value(), 0))\n",
    "# The objective value of the solution.\n",
    "print('Maximum Profit =', maximum_profit)"
   ]
  },
  {
   "cell_type": "markdown",
   "metadata": {
    "slideshow": {
     "slide_type": "slide"
    }
   },
   "source": [
    "<a href=\"https://symphony.uphs.upenn.edu\"><img src=\"https://symphony.uphs.upenn.edu/img/symphony-logo-animated.cec5e004.svg\" style=\"max-height: 500px\"><a/>"
   ]
  },
  {
   "cell_type": "markdown",
   "metadata": {
    "slideshow": {
     "slide_type": "slide"
    }
   },
   "source": [
    "## Further resources:\n",
    "\n",
    "- [Excel Solver course on Linkedin Learning](https://www.linkedin.com/learning/microsoft-excel-using-solver-for-decision-analysis)\n",
    "- [Google OR Tools Library](https://developers.google.com/optimization)\n",
    "- [Quick Solver Intro on on Ablebits.com](https://www.ablebits.com/office-addins-blog/2016/06/22/how-to-use-solver-in-excel-with-examples/)\n",
    "- [This Jupyter notebook hosted on Github so you can see the other examples](github.com)"
   ]
  },
  {
   "cell_type": "markdown",
   "metadata": {
    "slideshow": {
     "slide_type": "skip"
    }
   },
   "source": [
    "### Linear Programming Example 2: Workforce Scheduling\n",
    "\n",
    "Here's the prompt for this problem given in the class notes:\n",
    "\n",
    ">The manager of a department store has decided to operate 24 hours a day.  On the basis of estimates of trade throughout thisperiod, he feels that he requires at least the following number of employees during the given time periods:\n",
    "\n",
    ">| Time Period | Minimum Employees |\n",
    "|------|------|\n",
    "| 0:01 - 4:00 | 10 |\n",
    "| 4:01 - 8:00 | 15 |\n",
    "| 8:01 - 12:00 | 8 |\n",
    "| 12:01 - 16:00 | 9 |\n",
    "| 16:01 - 20:00 | 11 |\n",
    "| 20:01 - 24:00 | 10 |\n",
    "\n",
    ">His employees may be scheduled to report to work at midnight, 4AM, 8AM, noon, 4PM, or 8PM.  Once employees report in, they must stay continuously for an 8-hour shift.  How many employees should be scheduled to report at each of the six periods so that overall number of personnel is minimized?  \n",
    "\n",
    ">We will formulate this as a linear programming model.\n",
    "\n",
    "To solve this problem, we first need to determine our decision variables which will be the number of employees starting at each time period:\n",
    "\n",
    "p1 = Number of employees reporting at the start of period 1\n",
    "p2 = Number of employees reporting at the start of period 2...\n",
    "\n",
    "for all time periods.\n",
    "\n",
    "Our goal will be to minimize the sum of all variables p1 to p6.\n",
    "\n",
    "$$ minimize: p1 + p2 + p3 + p4 + p5 + p6 $$\n",
    "\n",
    "For our constraints, we need to make sure that we have enough employees present in each period.  The tricky part is that employees are always there for two periods (since they have to work a continuous 8 hour shift.  To do this, we must have:\n",
    "\n",
    "| Time Period | Minimum Employees |\n",
    "|------|------|\n",
    "| p6 + p1 | >= 10 |\n",
    "| p1 + p2 | >= 15 |\n",
    "| p2 + p3 | >= 8 |\n",
    "| p3 + p4 | >= 9 |\n",
    "| p4 + p5 | >= 11 |\n",
    "| p5 + p6 | >= 10 |\n",
    "\n",
    "Since those who start in period 6 will still be working during period 1 and those starting in period 1 will still be working during period 2, and so on...\n",
    "\n",
    "Now that we have our objective function and constraints, we can formulate our problem in Python.\n",
    "\n",
    "#### Example 2 Google OR Tools Solution"
   ]
  },
  {
   "cell_type": "code",
   "execution_count": 20,
   "metadata": {
    "slideshow": {
     "slide_type": "skip"
    }
   },
   "outputs": [
    {
     "name": "stdout",
     "output_type": "stream",
     "text": [
      "Optimal Solution:\n",
      "     Employees starting in period 1: 2.0\n",
      "     Employees starting in period 2: 13.0\n",
      "     Employees starting in period 3: 0.0\n",
      "     Employees starting in period 4: 9.0\n",
      "     Employees starting in period 5: 2.0\n",
      "     Employees starting in period 6: 8.0\n"
     ]
    }
   ],
   "source": [
    "# Instantiate the solver\n",
    "solver = pywraplp.Solver('Furniture Inc. Example',\n",
    "                           pywraplp.Solver.CBC_MIXED_INTEGER_PROGRAMMING)\n",
    "\n",
    "# Create variables for the number of employees starting \n",
    "# in each period.\n",
    "p1 = solver.IntVar(0, solver.infinity(), 'Employees starting in period 1:')\n",
    "p2 = solver.IntVar(0, solver.infinity(), 'Employees starting in period 2:')\n",
    "p3 = solver.IntVar(0, solver.infinity(), 'Employees starting in period 3:')\n",
    "p4 = solver.IntVar(0, solver.infinity(), 'Employees starting in period 4:')\n",
    "p5 = solver.IntVar(0, solver.infinity(), 'Employees starting in period 5:')\n",
    "p6 = solver.IntVar(0, solver.infinity(), 'Employees starting in period 6:')\n",
    "\n",
    "# Create the constraints as listed above.\n",
    "\n",
    "# p6 + p1  >= 10 \n",
    "# p1 + p2  >= 15 \n",
    "# p2 + p3  >= 8 \n",
    "# p3 + p4  >= 9 \n",
    "# p4 + p5  >= 11 \n",
    "# p5 + p6  >= 10 \n",
    "\n",
    "# The minimum number of employees working during period 1 is 10\n",
    "minimum_employees_in_period_1 = solver.Constraint(10, solver.infinity())\n",
    "minimum_employees_in_period_1.SetCoefficient(p6, 1)\n",
    "minimum_employees_in_period_1.SetCoefficient(p1, 1)\n",
    "\n",
    "# The minimum number of employees working during period 2 is 15\n",
    "minimum_employees_in_period_2 = solver.Constraint(15, solver.infinity())\n",
    "minimum_employees_in_period_2.SetCoefficient(p1, 1)\n",
    "minimum_employees_in_period_2.SetCoefficient(p2, 1)\n",
    "\n",
    "# The minimum number of employees working during period 3 is 8\n",
    "minimum_employees_in_period_3 = solver.Constraint(8, solver.infinity())\n",
    "minimum_employees_in_period_3.SetCoefficient(p2, 1)\n",
    "minimum_employees_in_period_3.SetCoefficient(p3, 1)\n",
    "\n",
    "# The minimum number of employees working during period 4 is 9\n",
    "minimum_employees_in_period_4 = solver.Constraint(9, solver.infinity())\n",
    "minimum_employees_in_period_4.SetCoefficient(p3, 1)\n",
    "minimum_employees_in_period_4.SetCoefficient(p4, 1)\n",
    "\n",
    "# The minimum number of employees working during period 5 is 11\n",
    "minimum_employees_in_period_5 = solver.Constraint(11, solver.infinity())\n",
    "minimum_employees_in_period_5.SetCoefficient(p4, 1)\n",
    "minimum_employees_in_period_5.SetCoefficient(p5, 1)\n",
    "\n",
    "# The minimum number of employees working during period 6 is 10\n",
    "minimum_employees_in_period_6 = solver.Constraint(10, solver.infinity())\n",
    "minimum_employees_in_period_6.SetCoefficient(p5, 1)\n",
    "minimum_employees_in_period_6.SetCoefficient(p6, 1)\n",
    "\n",
    "# Next, we add our objective function to the solver in a similar manner\n",
    "# using solver.Objective() to create the objective function:\n",
    "#\n",
    "#    8 * tables + 6 * chairs = profit\n",
    "objective = solver.Objective()\n",
    "objective.SetCoefficient(p1, 1)\n",
    "objective.SetCoefficient(p2, 1)\n",
    "objective.SetCoefficient(p3, 1)\n",
    "objective.SetCoefficient(p4, 1)\n",
    "objective.SetCoefficient(p5, 1)\n",
    "objective.SetCoefficient(p6, 1)\n",
    "\n",
    "# Since we are trying to minimize the objective function, we call\n",
    "# objective.SetMinimization()\n",
    "objective.SetMinimization()\n",
    "\n",
    "# Solve the problem\n",
    "solver.Solve()\n",
    "\n",
    "# List the variables\n",
    "variables = [p1, p2, p3, p4, p5, p6]\n",
    "\n",
    "# Print the solution\n",
    "print('Optimal Solution:')\n",
    "for var in variables:\n",
    "    print('    ', var.name(), var.solution_value())"
   ]
  },
  {
   "cell_type": "markdown",
   "metadata": {
    "slideshow": {
     "slide_type": "skip"
    }
   },
   "source": [
    "### Linear Programming Example 3: Interview Selection\n",
    "\n",
    "Here's the prompt:\n",
    "\n",
    ">A marketing research firm has been retained to conduct focus group interviews for a real estate company. Plans are made to classify the participants as to age: over 45, or 45 or under, and whether or not they have recently bought and/or sold a house (within the last 2 years). Some\n",
    "specific guidelines have been developed.\n",
    "\n",
    "> 1. At least 100 people must be selected.\n",
    "2. At least 3/4 of the participants must have bought or\n",
    "sold recently.\n",
    "3. Of those who have not bought or sold recently, at least 40%\n",
    "must be over 45.\n",
    "4. No more than 40% of the participants should be 45\n",
    "or under.\n",
    "\n",
    "> There is a preliminary screening of participants. The cost to screen each participant begins at `$`10. Additional contact with those over 45 raises the cost by `$`12. Additional time with the recent buyers and sellers adds `$`7 to the cost of including those participants. \n",
    "\n",
    "> In order to minimize total cost, how many people in each category should be in the group? Formulate as an LP problem.\n",
    "\n",
    "For this problem, our decision variables are:\n",
    "\n",
    "1. Number of people over 45 who have bought or sold recently (x1)\n",
    "2. Number of people over 45 who have **not** bought or sold recently (x2)\n",
    "3. Number of people 45 or under who have bought or sold recently (x3) \n",
    "4. Number of people 45 or under who have **not** bought or sold recently (x4)\n",
    "\n",
    "The constraints will look like:\n",
    "1. Total people selected is at least 100\n",
    "2. Number of people who have bought or sold recently must be at least .75 * (x1 + x2 + x3 + x4)\n",
    "3. x2 / (x2 + x4) >= .4\n",
    "4. (x3 + x4) / (x1 + x2 + x3 + x4) < .4\n",
    "\n",
    "And the objective function is:\n",
    "    x1 cost: = 29\n",
    "    x2 cost: = 22\n",
    "    x3 cost: = 17\n",
    "    x4 cost: = 10 \n",
    "    \n",
    "minimize:\n",
    "    x1 * 29 + x2 * 22 + x3 * 17 + x4 * 10\n",
    "    \n",
    "With our variables, constraints, and objective function in place, we can formulate our problem in OR Tools:\n",
    "\n",
    "#### Example 2 Google OR Tools Solution"
   ]
  },
  {
   "cell_type": "code",
   "execution_count": 21,
   "metadata": {
    "slideshow": {
     "slide_type": "skip"
    }
   },
   "outputs": [
    {
     "name": "stdout",
     "output_type": "stream",
     "text": [
      "Optimal Solution:\n",
      "\t Number of people over 45 who have bought/sold recently: 50.0\n",
      "\t Number of people over 45 who have not bought/sold recently: 11.0\n",
      "\t Number of people 45 or under who have bought/sold recently: 25.0\n",
      "\t Number of people 45 or under who have not bought/sold recently: 14.0\n",
      "\n",
      "Total Cost of Interviews:\n",
      "\t$2257.00\n",
      "\n",
      "Checking constraint number 1...\n",
      "Total number of people should be greater than or equal to 100:\n",
      "\tTotal number of people in solution: 100.\n",
      "\n",
      "Checking constraint number 2...\n",
      "The number of people who have bought or sold recently must be at least 75% of the total.\n",
      "\tTotal number of people who have bought or sold: 75.\n",
      "\tThis number is 75% of the total.\n",
      "\n",
      "Checking constraint number 3...\n",
      "Of those who have not bought or sold recently, at least 40% must be over 45.\n",
      "\tTotal number of people over 45 who have bought or sold: 50.\n",
      "\tThis number is 67% of all who have bought or sold recently.\n",
      "\n",
      "Checking constraint number 4...\n",
      "No more than 40% of the participants should be 45 or under.\n",
      "\tTotal number of participants under 45 is 25.\n",
      "\tThis number is 25% of all who have bought or sold recently.\n",
      "\n"
     ]
    }
   ],
   "source": [
    "# Instantiate the solver\n",
    "solver = pywraplp.Solver('Furniture Inc. Example',\n",
    "                           pywraplp.Solver.CBC_MIXED_INTEGER_PROGRAMMING)\n",
    "\n",
    "# Create variables for the number of employees starting \n",
    "# in each period.\n",
    "x1 = solver.IntVar(0, solver.infinity(), 'Number of people over 45 who have bought/sold recently:')\n",
    "x2 = solver.IntVar(0, solver.infinity(), 'Number of people over 45 who have not bought/sold recently:')\n",
    "x3 = solver.IntVar(0, solver.infinity(), 'Number of people 45 or under who have bought/sold recently:')\n",
    "x4 = solver.IntVar(0, solver.infinity(), 'Number of people 45 or under who have not bought/sold recently:')\n",
    "\n",
    "# List the variables and cost of each for later use:\n",
    "variables = [x1, x2, x3, x4]\n",
    "costs = [29, 22, 17, 10]\n",
    "\n",
    "\n",
    "# Since a number of our constraints depend on the total number of people\n",
    "# we create a separate variable to hold that total.  We can then use that variable in our\n",
    "# constraints\n",
    "var_total = sum([x1, x2, x3, x4])\n",
    "\n",
    "# Instantiate constraints\n",
    "\n",
    "# Here, we'll use a slightly different syntax to add the constraints.  Using solver.Add()\n",
    "# we can simply write out our expression as a linear inequality\n",
    "\n",
    "# Constraint number 1:\n",
    "#    Minimum number of people selected is 100\n",
    "solver.Add(var_total >= 100)\n",
    "\n",
    "\n",
    "# Constraint number 2:\n",
    "#    Number of people who have bought or sold recently must be at least 75% of total\n",
    "#    or x1 + x3 >= .75 * var_total\n",
    "\n",
    "# Create a variable for the total number * .75\n",
    "min_bought_sold = var_total * .75\n",
    "\n",
    "# Use solver.Sum() to get the total of x1 and x3.\n",
    "solver.Add(solver.Sum([x1, x3]) >= min_bought_sold)\n",
    "\n",
    "# Constraint number 3:\n",
    "#    Of those who have not bought or sold recently, at least 40% must be over 45.\n",
    "#    The total number of people who haven't bought or sold is the sum of x2 and x4, so:\n",
    "#        x2 > (x2 + x4) * .4\n",
    "#    However, since the solver can't take greater than or less than, we must adjust our coefficient \n",
    "#    on the right-hand side of this equation.  Since we know that the minimum number of people allowed is 100,\n",
    "#    we can simply rewrite this inequality as >= .41 since 100 * .41 = 41\n",
    "\n",
    "min_no_buy_over_45 = sum([x2, x4]) * .41\n",
    "solver.Add(x2 >= min_no_buy_over_45)\n",
    "\n",
    "\n",
    "# Constraint number 4:\n",
    "#    No more than 40% of the participants should be 45 or under.  Using the same logic as above, we rewrite this \n",
    "#   inequality to be <= .39\n",
    "#   (x3 + x4) / (x1 + x2 + x3 + x4) < .39\n",
    "max_under_45 = var_total * .39\n",
    "\n",
    "solver.Add(solver.Sum([x3, x4]) <= max_under_45)\n",
    "\n",
    "objective = solver.Objective()\n",
    "\n",
    "# We can use the variable and cost lists we created above to programatically add\n",
    "# the coefficients to the objective function in a list comprehension.\n",
    "[objective.SetCoefficient(var, cost) for var, cost in zip(variables, costs)]\n",
    "\n",
    "\n",
    "# Since we are trying to minimize the objective function, we call\n",
    "# objective.SetMinimization().\n",
    "objective.SetMinimization()\n",
    "\n",
    "# Solve the problem.  This time, we'll save the output of solver.Solve() so we can check whether the solution found is an \n",
    "# optimal one.\n",
    "status = solver.Solve()\n",
    "\n",
    "\n",
    "# Determine the total cost and print the solution.\n",
    "ttl_cost = 0\n",
    "print('Optimal Solution:')\n",
    "for var, cost in zip(variables, costs):\n",
    "    val = var.solution_value()\n",
    "    \n",
    "    # Add the cost to the total\n",
    "    ttl_cost += val * cost\n",
    "    print('\\t', var.name(), val)\n",
    "    \n",
    "    \n",
    "print() \n",
    "print(\"Total Cost of Interviews:\")\n",
    "print(\"\\t$%0.2f\" % ttl_cost)\n",
    "print()\n",
    "\n",
    "\n",
    "# Now, just to make sure we got our constraints input correctly, let's check them manually.\n",
    "total_people = var_total.solution_value()\n",
    "total_bought_sold = sum([x1, x3]).solution_value()\n",
    "total_under_45 = sum([x2, x4]).solution_value()\n",
    "\n",
    "print(\"Checking constraint number 1...\")\n",
    "print(\"Total number of people should be greater than or equal to 100:\")\n",
    "print(\"\\tTotal number of people in solution: %d.\" % total_people)\n",
    "print()\n",
    "\n",
    "print(\"Checking constraint number 2...\")\n",
    "print(\"The number of people who have bought or sold recently must be at least 75% of the total.\")\n",
    "print(\"\\tTotal number of people who have bought or sold: %d.\" % total_bought_sold)\n",
    "print(\"\\tThis number is %0.0f%% of the total.\" % ((total_bought_sold / total_people) * 100))\n",
    "print()\n",
    "\n",
    "print(\"Checking constraint number 3...\")\n",
    "print(\"Of those who have not bought or sold recently, at least 40% must be over 45.\")\n",
    "print(\"\\tTotal number of people over 45 who have bought or sold: %d.\" % x1.solution_value())\n",
    "print(\"\\tThis number is %0.0f%% of all who have bought or sold recently.\" % ((x1.solution_value() / total_bought_sold) * 100))\n",
    "print()\n",
    "\n",
    "print(\"Checking constraint number 4...\")\n",
    "print(\"No more than 40% of the participants should be 45 or under.\")\n",
    "print(\"\\tTotal number of participants under 45 is %d.\" % total_under_45)\n",
    "print(\"\\tThis number is %0.0f%% of all who have bought or sold recently.\" % ((total_under_45 / total_people) * 100))\n",
    "print()\n"
   ]
  },
  {
   "cell_type": "markdown",
   "metadata": {
    "slideshow": {
     "slide_type": "skip"
    }
   },
   "source": [
    "As we can see from the output, we have sucessfully met all of the constraints listed in the problem statement.  The question still remains, however, as to whether this is an optimal solution.  Thankfully, Google OR Tools comes with a way to check the status of our solution.  Above, we saved the output of our call to `solver.Solve()` in a variable called `status`.  Calling `solver.Solve()` returns an integer which represents the status of the solution (e.g. whether it's optimal, infeasible, etc.).  The `solver` class also comes with properties that represent each possible status.  We can compare the output of `solver.Solve()` to these properties to determine if an optimal solution was found."
   ]
  },
  {
   "cell_type": "code",
   "execution_count": 22,
   "metadata": {
    "slideshow": {
     "slide_type": "skip"
    }
   },
   "outputs": [
    {
     "name": "stdout",
     "output_type": "stream",
     "text": [
      "True\n"
     ]
    }
   ],
   "source": [
    "# solver.OPTIMAL represents an optimal solution.  If the status equals solver.OPTIMAL, we can be confident that\n",
    "# we have found the best possible solution to our problem given the constraints that we have.\n",
    "print(solver.OPTIMAL == status)"
   ]
  },
  {
   "cell_type": "markdown",
   "metadata": {
    "slideshow": {
     "slide_type": "skip"
    }
   },
   "source": [
    "### Wrap-up\n",
    "As we've seen in these examples, linear programming is an incredibly useful tool for many different types of scenarios.  Google OR Tools provides a smooth and intuitive API for framing and solving LP problems in code.  Often, the most difficult part of any LP problem is to describe it in such a way as can be input into a solver utility like Google OR Tools.  "
   ]
  }
 ],
 "metadata": {
  "celltoolbar": "Slideshow",
  "kernelspec": {
   "display_name": "Python 3",
   "language": "python",
   "name": "python3"
  },
  "language_info": {
   "codemirror_mode": {
    "name": "ipython",
    "version": 3
   },
   "file_extension": ".py",
   "mimetype": "text/x-python",
   "name": "python",
   "nbconvert_exporter": "python",
   "pygments_lexer": "ipython3",
   "version": "3.8.10"
  }
 },
 "nbformat": 4,
 "nbformat_minor": 2
}
